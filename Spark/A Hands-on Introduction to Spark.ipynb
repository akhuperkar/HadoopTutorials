{
 "metadata": {
  "name": "",
  "signature": "sha256:b05324412900fe733ef57164967d90bc0b0d0b30d30d4a1841466e82d2659f43"
 },
 "nbformat": 3,
 "nbformat_minor": 0,
 "worksheets": [
  {
   "cells": [
    {
     "cell_type": "markdown",
     "metadata": {},
     "source": [
      "## A Hands-on Introduction to Spark"
     ]
    },
    {
     "cell_type": "markdown",
     "metadata": {},
     "source": [
      "Two types of objects for communication in Spark\n",
      "1. Spark context\n",
      "2. SQL context"
     ]
    },
    {
     "cell_type": "code",
     "collapsed": false,
     "input": [
      "sc"
     ],
     "language": "python",
     "metadata": {},
     "outputs": [
      {
       "metadata": {},
       "output_type": "pyout",
       "prompt_number": 1,
       "text": [
        "<pyspark.context.SparkContext at 0x7f7dcc0ba1d0>"
       ]
      }
     ],
     "prompt_number": 1
    },
    {
     "cell_type": "code",
     "collapsed": false,
     "input": [
      "sqlContext"
     ],
     "language": "python",
     "metadata": {},
     "outputs": [
      {
       "metadata": {},
       "output_type": "pyout",
       "prompt_number": 2,
       "text": [
        "<pyspark.sql.context.SQLContext at 0x7f7db1d01c90>"
       ]
      }
     ],
     "prompt_number": 2
    },
    {
     "cell_type": "code",
     "collapsed": false,
     "input": [
      "hello = [\"hello\", \"spark\", \"at\", \"spjain\"]"
     ],
     "language": "python",
     "metadata": {},
     "outputs": [],
     "prompt_number": 3
    },
    {
     "cell_type": "markdown",
     "metadata": {},
     "source": [
      "'rdd' object distributes the local data to the executors"
     ]
    },
    {
     "cell_type": "code",
     "collapsed": false,
     "input": [
      "rdd = sc.parallelize(hello)"
     ],
     "language": "python",
     "metadata": {},
     "outputs": [],
     "prompt_number": 4
    },
    {
     "cell_type": "code",
     "collapsed": false,
     "input": [
      "rdd"
     ],
     "language": "python",
     "metadata": {},
     "outputs": [
      {
       "metadata": {},
       "output_type": "pyout",
       "prompt_number": 5,
       "text": [
        "ParallelCollectionRDD[0] at parallelize at PythonRDD.scala:423"
       ]
      }
     ],
     "prompt_number": 5
    },
    {
     "cell_type": "markdown",
     "metadata": {},
     "source": [
      "Spark performs two major tasks with data - 1) Actions 2) Transformations. 'Actions' such as `take()`, `count()`, `collect()` are performed to understand the data better. 'Transformations' are similar to mapreduce jobs and more."
     ]
    },
    {
     "cell_type": "code",
     "collapsed": false,
     "input": [
      "rdd.first() # returns one element of rdd object"
     ],
     "language": "python",
     "metadata": {},
     "outputs": [
      {
       "metadata": {},
       "output_type": "pyout",
       "prompt_number": 6,
       "text": [
        "'hello'"
       ]
      }
     ],
     "prompt_number": 6
    },
    {
     "cell_type": "code",
     "collapsed": false,
     "input": [
      "rdd.take(3) # returns three elements of rdd object"
     ],
     "language": "python",
     "metadata": {},
     "outputs": [
      {
       "metadata": {},
       "output_type": "pyout",
       "prompt_number": 7,
       "text": [
        "['hello', 'spark', 'at']"
       ]
      }
     ],
     "prompt_number": 7
    },
    {
     "cell_type": "code",
     "collapsed": false,
     "input": [
      "rdd.takeSample(False, 3) # returns three elements randomly without replacement"
     ],
     "language": "python",
     "metadata": {},
     "outputs": [
      {
       "metadata": {},
       "output_type": "pyout",
       "prompt_number": 8,
       "text": [
        "['spjain', 'spark', 'hello']"
       ]
      }
     ],
     "prompt_number": 8
    },
    {
     "cell_type": "code",
     "collapsed": false,
     "input": [
      "rdd.count() # returns number of elements of rdd"
     ],
     "language": "python",
     "metadata": {},
     "outputs": [
      {
       "metadata": {},
       "output_type": "pyout",
       "prompt_number": 9,
       "text": [
        "4"
       ]
      }
     ],
     "prompt_number": 9
    },
    {
     "cell_type": "markdown",
     "metadata": {},
     "source": [
      "`collect()` displays all elements. Don't use collect on large dataset. All will be dumped to screen.#Before that it will be taken in driver's memory and large data can crash driver's memory"
     ]
    },
    {
     "cell_type": "code",
     "collapsed": false,
     "input": [
      "rdd.collect()"
     ],
     "language": "python",
     "metadata": {},
     "outputs": [
      {
       "metadata": {},
       "output_type": "pyout",
       "prompt_number": 10,
       "text": [
        "['hello', 'spark', 'at', 'spjain']"
       ]
      }
     ],
     "prompt_number": 10
    },
    {
     "cell_type": "markdown",
     "metadata": {},
     "source": [
      "### Working with a large dataset\n",
      "The data file 'birdstrikes.csv' contains 11-year data of aircraft bird strikes from 2000 through 2011.  "
     ]
    },
    {
     "cell_type": "code",
     "collapsed": false,
     "input": [
      "birdstrikes = sc.textFile(\"file:///home/bigdata/birdstrikes.csv\") # birdstrikes data object of the csv data"
     ],
     "language": "python",
     "metadata": {},
     "outputs": [],
     "prompt_number": 11
    },
    {
     "cell_type": "code",
     "collapsed": false,
     "input": [
      "birdstrikes.count() # 99405 incidents of birdstrikes reported during 2000 to 2011"
     ],
     "language": "python",
     "metadata": {},
     "outputs": [
      {
       "metadata": {},
       "output_type": "pyout",
       "prompt_number": 12,
       "text": [
        "99405"
       ]
      }
     ],
     "prompt_number": 12
    },
    {
     "cell_type": "code",
     "collapsed": false,
     "input": [
      "birdstrikes.getNumPartitions()"
     ],
     "language": "python",
     "metadata": {},
     "outputs": [
      {
       "metadata": {},
       "output_type": "pyout",
       "prompt_number": 13,
       "text": [
        "1"
       ]
      }
     ],
     "prompt_number": 13
    },
    {
     "cell_type": "code",
     "collapsed": false,
     "input": [
      "birdstrikes.take(5) # showing 5 rows of data, including the header row"
     ],
     "language": "python",
     "metadata": {},
     "outputs": [
      {
       "metadata": {},
       "output_type": "pyout",
       "prompt_number": 14,
       "text": [
        "[u'id,aircraft,flight_date,damage,airline,state,phase_of_flight,reported_date,bird_size,cost,feet_above_ground',\n",
        " u'2,Airplane,2000-01-01,No damage,CONTINENTAL AIRLINES,New Jersey,Take-off run,,Medium,0,0',\n",
        " u'3,Airplane,2000-01-01,No damage,UNITED AIRLINES,,,,Medium,0,',\n",
        " u'4,Airplane,2000-01-01,No damage,UNITED AIRLINES,Colorado,Climb,,Medium,0,',\n",
        " u'5,Airplane,2000-01-01,No damage,UNITED AIRLINES,Illinois,Approach,,Medium,0,']"
       ]
      }
     ],
     "prompt_number": 14
    },
    {
     "cell_type": "code",
     "collapsed": false,
     "input": [
      "birdstrikes.repartition(5) # five partitions are made to distribute computing on large dataset"
     ],
     "language": "python",
     "metadata": {},
     "outputs": [
      {
       "metadata": {},
       "output_type": "pyout",
       "prompt_number": 15,
       "text": [
        "MapPartitionsRDD[13] at repartition at NativeMethodAccessorImpl.java:-2"
       ]
      }
     ],
     "prompt_number": 15
    },
    {
     "cell_type": "code",
     "collapsed": false,
     "input": [
      "birdstrikes.getNumPartitions() # object is not overwritten"
     ],
     "language": "python",
     "metadata": {},
     "outputs": [
      {
       "metadata": {},
       "output_type": "pyout",
       "prompt_number": 16,
       "text": [
        "1"
       ]
      }
     ],
     "prompt_number": 16
    },
    {
     "cell_type": "code",
     "collapsed": false,
     "input": [
      "newrdd = birdstrikes.repartition(5) # new object with repartitions"
     ],
     "language": "python",
     "metadata": {},
     "outputs": [],
     "prompt_number": 17
    },
    {
     "cell_type": "code",
     "collapsed": false,
     "input": [
      "newrdd.getNumPartitions() # new object shows 5 partitions of data"
     ],
     "language": "python",
     "metadata": {},
     "outputs": [
      {
       "metadata": {},
       "output_type": "pyout",
       "prompt_number": 18,
       "text": [
        "5"
       ]
      }
     ],
     "prompt_number": 18
    },
    {
     "cell_type": "code",
     "collapsed": false,
     "input": [
      "newrdd.take(5) # 5 rows are randomly shown from one or more partitions. Note header row is not shown here."
     ],
     "language": "python",
     "metadata": {},
     "outputs": [
      {
       "metadata": {},
       "output_type": "pyout",
       "prompt_number": 19,
       "text": [
        "[u'5,Airplane,2000-01-01,No damage,UNITED AIRLINES,Illinois,Approach,,Medium,0,',\n",
        " u'11,Airplane,2000-01-02,No damage,UNITED AIRLINES,California,Take-off run,,Small,0,0',\n",
        " u'17,Airplane,2000-01-03,No damage,SOUTHWEST AIRLINES,Texas,Climb,,Medium,0,',\n",
        " u'22,Airplane,2000-01-04,No damage,SOUTHWEST AIRLINES,Maryland,Climb,,Medium,0,50',\n",
        " u'27,Airplane,2000-01-04,No damage,CONTINENTAL AIRLINES,Louisiana,Approach,2000-01-04,Small,0,100']"
       ]
      }
     ],
     "prompt_number": 19
    },
    {
     "cell_type": "markdown",
     "metadata": {},
     "source": [
      "Get rid of header row to avoid miscalculations and conflict of data types. Steps: \n",
      "1. identify header row using startwith function, \n",
      "2. filter out the header row from dataset  "
     ]
    },
    {
     "cell_type": "code",
     "collapsed": false,
     "input": [
      "h = \"id,airplane...\"\n",
      "nohead = \"12, airplane..\""
     ],
     "language": "python",
     "metadata": {},
     "outputs": [],
     "prompt_number": 20
    },
    {
     "cell_type": "code",
     "collapsed": false,
     "input": [
      "h.startswith(\"id\")"
     ],
     "language": "python",
     "metadata": {},
     "outputs": [
      {
       "metadata": {},
       "output_type": "pyout",
       "prompt_number": 21,
       "text": [
        "True"
       ]
      }
     ],
     "prompt_number": 21
    },
    {
     "cell_type": "code",
     "collapsed": false,
     "input": [
      "nohead.startswith(\"id\")"
     ],
     "language": "python",
     "metadata": {},
     "outputs": [
      {
       "metadata": {},
       "output_type": "pyout",
       "prompt_number": 22,
       "text": [
        "False"
       ]
      }
     ],
     "prompt_number": 22
    },
    {
     "cell_type": "code",
     "collapsed": false,
     "input": [
      "def is_not_header(row): # user-defined function to identify a header row\n",
      "    if row.startswith(\"id,\"):\n",
      "        return False\n",
      "    else:\n",
      "        return True    "
     ],
     "language": "python",
     "metadata": {},
     "outputs": [],
     "prompt_number": 23
    },
    {
     "cell_type": "code",
     "collapsed": false,
     "input": [
      "newrdd.count() # no of records including a header row"
     ],
     "language": "python",
     "metadata": {},
     "outputs": [
      {
       "metadata": {},
       "output_type": "pyout",
       "prompt_number": 24,
       "text": [
        "99405"
       ]
      }
     ],
     "prompt_number": 24
    },
    {
     "cell_type": "code",
     "collapsed": false,
     "input": [
      "rows = newrdd.filter(is_not_header) # filtering out the header row "
     ],
     "language": "python",
     "metadata": {},
     "outputs": [],
     "prompt_number": 25
    },
    {
     "cell_type": "code",
     "collapsed": false,
     "input": [
      "rows.count() # data without a header row"
     ],
     "language": "python",
     "metadata": {},
     "outputs": [
      {
       "metadata": {},
       "output_type": "pyout",
       "prompt_number": 26,
       "text": [
        "99404"
       ]
      }
     ],
     "prompt_number": 26
    },
    {
     "cell_type": "code",
     "collapsed": false,
     "input": [
      "def is_not_header_2(row):            # short method with same functionality\n",
      "    return not row.startswith(\"id,\")"
     ],
     "language": "python",
     "metadata": {},
     "outputs": [],
     "prompt_number": 27
    },
    {
     "cell_type": "code",
     "collapsed": false,
     "input": [
      "lambda row: not row.startswith(\"id,\") # lambda function does not have function definition and doesn't return any value.  "
     ],
     "language": "python",
     "metadata": {},
     "outputs": [
      {
       "metadata": {},
       "output_type": "pyout",
       "prompt_number": 28,
       "text": [
        "<function __main__.<lambda>>"
       ]
      }
     ],
     "prompt_number": 28
    },
    {
     "cell_type": "code",
     "collapsed": false,
     "input": [
      "rows2 = newrdd.filter(lambda x: not x.startswith(\"id,\")) # filtering header row using lambda function"
     ],
     "language": "python",
     "metadata": {},
     "outputs": [],
     "prompt_number": 29
    },
    {
     "cell_type": "code",
     "collapsed": false,
     "input": [
      "rows2.count()"
     ],
     "language": "python",
     "metadata": {},
     "outputs": [
      {
       "metadata": {},
       "output_type": "pyout",
       "prompt_number": 47,
       "text": [
        "99404"
       ]
      }
     ],
     "prompt_number": 47
    },
    {
     "cell_type": "code",
     "collapsed": false,
     "input": [
      "rows.count()"
     ],
     "language": "python",
     "metadata": {},
     "outputs": [
      {
       "metadata": {},
       "output_type": "pyout",
       "prompt_number": 48,
       "text": [
        "99404"
       ]
      }
     ],
     "prompt_number": 48
    },
    {
     "cell_type": "markdown",
     "metadata": {},
     "source": [
      "### Exercise-1\n",
      "Find the number of bird strikes due to the medium sized birds."
     ]
    },
    {
     "cell_type": "code",
     "collapsed": false,
     "input": [
      "rows.filter(lambda row: \"Medium\" in row).count()"
     ],
     "language": "python",
     "metadata": {},
     "outputs": [
      {
       "metadata": {},
       "output_type": "pyout",
       "prompt_number": 50,
       "text": [
        "32928"
       ]
      }
     ],
     "prompt_number": 50
    },
    {
     "cell_type": "code",
     "collapsed": false,
     "input": [
      "rows.filter(lambda row: \"Medium\" in row).take(5)"
     ],
     "language": "python",
     "metadata": {},
     "outputs": [
      {
       "metadata": {},
       "output_type": "pyout",
       "prompt_number": 51,
       "text": [
        "[u'5,Airplane,2000-01-01,No damage,UNITED AIRLINES,Illinois,Approach,,Medium,0,',\n",
        " u'17,Airplane,2000-01-03,No damage,SOUTHWEST AIRLINES,Texas,Climb,,Medium,0,',\n",
        " u'22,Airplane,2000-01-04,No damage,SOUTHWEST AIRLINES,Maryland,Climb,,Medium,0,50',\n",
        " u'33,Airplane,2000-01-05,No damage,DELTA AIR LINES,Ohio,Take-off run,2000-01-05,Medium,0,0',\n",
        " u'51,Airplane,2000-01-08,No damage,HORIZON AIR,Oregon,Approach,,Medium,0,300']"
       ]
      }
     ],
     "prompt_number": 51
    },
    {
     "cell_type": "markdown",
     "metadata": {},
     "source": [
      "### Exercise-2\n",
      "1. Find the number accidents in California\n",
      "2. Show 5 elements of accidents in California"
     ]
    },
    {
     "cell_type": "code",
     "collapsed": false,
     "input": [
      "calrows = rows.filter(lambda row: \"California\" in row)"
     ],
     "language": "python",
     "metadata": {},
     "outputs": [],
     "prompt_number": 55
    },
    {
     "cell_type": "markdown",
     "metadata": {},
     "source": [
      "In-memory storage using cache() is the key feature of Spark. \n",
      "This differentiates Spark from the conventional mapreduce process. "
     ]
    },
    {
     "cell_type": "code",
     "collapsed": false,
     "input": [
      "calrows = calrows.cache() "
     ],
     "language": "python",
     "metadata": {},
     "outputs": [],
     "prompt_number": 56
    },
    {
     "cell_type": "code",
     "collapsed": false,
     "input": [
      "calrows.count() # number of accidents in California"
     ],
     "language": "python",
     "metadata": {},
     "outputs": [
      {
       "metadata": {},
       "output_type": "pyout",
       "prompt_number": 57,
       "text": [
        "7803"
       ]
      }
     ],
     "prompt_number": 57
    },
    {
     "cell_type": "code",
     "collapsed": false,
     "input": [
      "calrows.take(5) "
     ],
     "language": "python",
     "metadata": {},
     "outputs": [
      {
       "metadata": {},
       "output_type": "pyout",
       "prompt_number": 54,
       "text": [
        "[u'11,Airplane,2000-01-02,No damage,UNITED AIRLINES,California,Take-off run,,Small,0,0',\n",
        " u'130,Airplane,2000-01-17,No damage,AMERICAN AIRLINES,California,Climb,2000-01-17,Small,0,2000',\n",
        " u'213,Airplane,2000-01-31,No damage,EXECUTIVE JET AVIATION,California,Climb,,Small,148178,300',\n",
        " u'231,Airplane,2000-02-03,No damage,FEDEX EXPRESS,California,En Route,2000-02-03,Small,0,700',\n",
        " u'236,Airplane,2000-02-04,No damage,AMERICAN AIRLINES,California,Climb,,Small,0,50']"
       ]
      }
     ],
     "prompt_number": 54
    },
    {
     "cell_type": "markdown",
     "metadata": {},
     "source": [
      "### Exercise-3\n",
      "Find bird strikes caused by small birds to airplanes"
     ]
    },
    {
     "cell_type": "code",
     "collapsed": false,
     "input": [
      "smallair = rows.filter(lambda row: \"Small\" in row).filter(lambda row: \"Airplane\" in row).cache()"
     ],
     "language": "python",
     "metadata": {},
     "outputs": [],
     "prompt_number": 73
    },
    {
     "cell_type": "code",
     "collapsed": false,
     "input": [
      "smallair.count()"
     ],
     "language": "python",
     "metadata": {},
     "outputs": [
      {
       "metadata": {},
       "output_type": "pyout",
       "prompt_number": 76,
       "text": [
        "30875"
       ]
      }
     ],
     "prompt_number": 76
    },
    {
     "cell_type": "code",
     "collapsed": false,
     "input": [
      "rows.filter(lambda row: \"Small\" in row and \"Airplane\" in row).cache().count()"
     ],
     "language": "python",
     "metadata": {},
     "outputs": [
      {
       "metadata": {},
       "output_type": "pyout",
       "prompt_number": 80,
       "text": [
        "30875"
       ]
      }
     ],
     "prompt_number": 80
    },
    {
     "cell_type": "code",
     "collapsed": false,
     "input": [
      "smallair.take(3)"
     ],
     "language": "python",
     "metadata": {},
     "outputs": [
      {
       "metadata": {},
       "output_type": "pyout",
       "prompt_number": 75,
       "text": [
        "[u'11,Airplane,2000-01-02,No damage,UNITED AIRLINES,California,Take-off run,,Small,0,0',\n",
        " u'27,Airplane,2000-01-04,No damage,CONTINENTAL AIRLINES,Louisiana,Approach,2000-01-04,Small,0,100',\n",
        " u'39,Airplane,2000-01-06,No damage,AIRTRAN AIRWAYS,Georgia,Take-off run,2000-01-06,Small,0,0']"
       ]
      }
     ],
     "prompt_number": 75
    },
    {
     "cell_type": "code",
     "collapsed": false,
     "input": [
      "states = rows.map(lambda x: x.split(',')[5])"
     ],
     "language": "python",
     "metadata": {},
     "outputs": [],
     "prompt_number": 101
    },
    {
     "cell_type": "code",
     "collapsed": false,
     "input": [
      "states.take(5)"
     ],
     "language": "python",
     "metadata": {},
     "outputs": [
      {
       "metadata": {},
       "output_type": "pyout",
       "prompt_number": 103,
       "text": [
        "[u'Illinois', u'California', u'Texas', u'Maryland', u'Louisiana']"
       ]
      }
     ],
     "prompt_number": 103
    },
    {
     "cell_type": "markdown",
     "metadata": {},
     "source": [
      "### Exercise-4\n",
      "1. List 10 disctint airlines impacted by bird strikes\n",
      "2. Obtain total count of airlines "
     ]
    },
    {
     "cell_type": "code",
     "collapsed": false,
     "input": [
      "airlines = rows.map(lambda x: x.split(',')[4])"
     ],
     "language": "python",
     "metadata": {},
     "outputs": [],
     "prompt_number": 84
    },
    {
     "cell_type": "code",
     "collapsed": false,
     "input": [
      "airlines.take(5)"
     ],
     "language": "python",
     "metadata": {},
     "outputs": [
      {
       "metadata": {},
       "output_type": "pyout",
       "prompt_number": 85,
       "text": [
        "[u'UNITED AIRLINES',\n",
        " u'UNITED AIRLINES',\n",
        " u'SOUTHWEST AIRLINES',\n",
        " u'SOUTHWEST AIRLINES',\n",
        " u'CONTINENTAL AIRLINES']"
       ]
      }
     ],
     "prompt_number": 85
    },
    {
     "cell_type": "code",
     "collapsed": false,
     "input": [
      "d_airlines = airlines.distinct()"
     ],
     "language": "python",
     "metadata": {},
     "outputs": [],
     "prompt_number": 86
    },
    {
     "cell_type": "code",
     "collapsed": false,
     "input": [
      "d_airlines.take(10)"
     ],
     "language": "python",
     "metadata": {},
     "outputs": [
      {
       "metadata": {},
       "output_type": "pyout",
       "prompt_number": 87,
       "text": [
        "[u'CHAMPION AIR',\n",
        " u'COPA AIRLINES',\n",
        " u'BUSINESS',\n",
        " u'AMERICAN JET INTL',\n",
        " u'MOKULELE AIRLINES',\n",
        " u'BOSTON-MAINE AIRWAYS',\n",
        " u'GOJET AIRLINES',\n",
        " u'FREIGHT RUNNERS EXPRESS',\n",
        " u'LEGEND AIRLINES',\n",
        " u'AIR WISCONSIN AIRLINES']"
       ]
      }
     ],
     "prompt_number": 87
    },
    {
     "cell_type": "code",
     "collapsed": false,
     "input": [
      "d_airlines.count()"
     ],
     "language": "python",
     "metadata": {},
     "outputs": [
      {
       "metadata": {},
       "output_type": "pyout",
       "prompt_number": 88,
       "text": [
        "372"
       ]
      }
     ],
     "prompt_number": 88
    },
    {
     "cell_type": "markdown",
     "metadata": {},
     "source": [
      "### Exercise-5\n",
      "1. Calculate total cost due to bird strikes\n",
      "2. Obtain maximum cost of a bird strike accident"
     ]
    },
    {
     "cell_type": "code",
     "collapsed": false,
     "input": [
      "costs = rows.map(lambda x: x.split(',')[10]).filter(lambda x: x != '')"
     ],
     "language": "python",
     "metadata": {},
     "outputs": [],
     "prompt_number": 91
    },
    {
     "cell_type": "code",
     "collapsed": false,
     "input": [
      "costs.take(5)"
     ],
     "language": "python",
     "metadata": {},
     "outputs": [
      {
       "metadata": {},
       "output_type": "pyout",
       "prompt_number": 92,
       "text": [
        "[u'0', u'50', u'100', u'0', u'0']"
       ]
      }
     ],
     "prompt_number": 92
    },
    {
     "cell_type": "code",
     "collapsed": false,
     "input": [
      "cost_num = costs.map(lambda x: int(x))"
     ],
     "language": "python",
     "metadata": {},
     "outputs": [],
     "prompt_number": 93
    },
    {
     "cell_type": "code",
     "collapsed": false,
     "input": [
      "cost_num.take(5)"
     ],
     "language": "python",
     "metadata": {},
     "outputs": [
      {
       "metadata": {},
       "output_type": "pyout",
       "prompt_number": 94,
       "text": [
        "[0, 50, 100, 0, 0]"
       ]
      }
     ],
     "prompt_number": 94
    },
    {
     "cell_type": "code",
     "collapsed": false,
     "input": [
      "cost_num.reduce(lambda x,y: x + y)"
     ],
     "language": "python",
     "metadata": {},
     "outputs": [
      {
       "metadata": {},
       "output_type": "pyout",
       "prompt_number": 95,
       "text": [
        "47396697"
       ]
      }
     ],
     "prompt_number": 95
    },
    {
     "cell_type": "code",
     "collapsed": false,
     "input": [
      "cost_num.reduce(lambda x,y: max(x,y))"
     ],
     "language": "python",
     "metadata": {},
     "outputs": [
      {
       "metadata": {},
       "output_type": "pyout",
       "prompt_number": 97,
       "text": [
        "31300"
       ]
      }
     ],
     "prompt_number": 97
    },
    {
     "cell_type": "markdown",
     "metadata": {},
     "source": [
      "### Exercise-6\n",
      "1. Calculate total cost of accidents by birdsize\n",
      "2. Estimate total number of accidents by birdsize "
     ]
    },
    {
     "cell_type": "code",
     "collapsed": false,
     "input": [
      "rows.take(3)"
     ],
     "language": "python",
     "metadata": {},
     "outputs": [
      {
       "metadata": {},
       "output_type": "pyout",
       "prompt_number": 105,
       "text": [
        "[u'5,Airplane,2000-01-01,No damage,UNITED AIRLINES,Illinois,Approach,,Medium,0,',\n",
        " u'11,Airplane,2000-01-02,No damage,UNITED AIRLINES,California,Take-off run,,Small,0,0',\n",
        " u'17,Airplane,2000-01-03,No damage,SOUTHWEST AIRLINES,Texas,Climb,,Medium,0,']"
       ]
      }
     ],
     "prompt_number": 105
    },
    {
     "cell_type": "code",
     "collapsed": false,
     "input": [
      "tuples = rows.map(lambda x: (x.split(',')[8], x.split(',')[10]))"
     ],
     "language": "python",
     "metadata": {},
     "outputs": [],
     "prompt_number": 107
    },
    {
     "cell_type": "code",
     "collapsed": false,
     "input": [
      "tuples.take(2)"
     ],
     "language": "python",
     "metadata": {},
     "outputs": [
      {
       "metadata": {},
       "output_type": "pyout",
       "prompt_number": 108,
       "text": [
        "[(u'Medium', u''), (u'Small', u'0')]"
       ]
      }
     ],
     "prompt_number": 108
    },
    {
     "cell_type": "code",
     "collapsed": false,
     "input": [
      "cleansed = tuples.filter(lambda x: x[0] !='' and x[1] !='').map(lambda x: (x[0], int(x[1])))"
     ],
     "language": "python",
     "metadata": {},
     "outputs": [],
     "prompt_number": 109
    },
    {
     "cell_type": "code",
     "collapsed": false,
     "input": [
      "cleansed.take(5)"
     ],
     "language": "python",
     "metadata": {},
     "outputs": [
      {
       "metadata": {},
       "output_type": "pyout",
       "prompt_number": 110,
       "text": [
        "[(u'Small', 0),\n",
        " (u'Medium', 50),\n",
        " (u'Small', 100),\n",
        " (u'Medium', 0),\n",
        " (u'Small', 0)]"
       ]
      }
     ],
     "prompt_number": 110
    },
    {
     "cell_type": "code",
     "collapsed": false,
     "input": [
      "cleansed.countByKey()"
     ],
     "language": "python",
     "metadata": {},
     "outputs": [
      {
       "metadata": {},
       "output_type": "pyout",
       "prompt_number": 111,
       "text": [
        "defaultdict(<type 'int'>, {u'Small': 26627, u'Large': 3953, u'Medium': 16740})"
       ]
      }
     ],
     "prompt_number": 111
    },
    {
     "cell_type": "code",
     "collapsed": false,
     "input": [
      "cleansed.reduceByKey(lambda x,y: x + y).collect()"
     ],
     "language": "python",
     "metadata": {},
     "outputs": [
      {
       "metadata": {},
       "output_type": "pyout",
       "prompt_number": 114,
       "text": [
        "[(u'Small', 16303235), (u'Large', 4434569), (u'Medium', 22162578)]"
       ]
      }
     ],
     "prompt_number": 114
    },
    {
     "cell_type": "markdown",
     "metadata": {},
     "source": [
      "### Exercise-6\n",
      "1. Calculate total cost of bird strike accidents by states\n",
      "2. Estimate total number of bird strike accidents by states "
     ]
    },
    {
     "cell_type": "code",
     "collapsed": false,
     "input": [
      "states = rows.map(lambda x: (x.split(',')[5], x.split(',')[10]))"
     ],
     "language": "python",
     "metadata": {},
     "outputs": [],
     "prompt_number": 31
    },
    {
     "cell_type": "code",
     "collapsed": false,
     "input": [
      "states.take(5)"
     ],
     "language": "python",
     "metadata": {},
     "outputs": [
      {
       "metadata": {},
       "output_type": "pyout",
       "prompt_number": 32,
       "text": [
        "[(u'Illinois', u''),\n",
        " (u'California', u'0'),\n",
        " (u'Texas', u''),\n",
        " (u'Maryland', u'50'),\n",
        " (u'Louisiana', u'100')]"
       ]
      }
     ],
     "prompt_number": 32
    },
    {
     "cell_type": "code",
     "collapsed": false,
     "input": [
      "states_cleansed = states.filter(lambda x: x[0] !='' and x[1] !='').map(lambda x: (x[0], int(x[1])))"
     ],
     "language": "python",
     "metadata": {},
     "outputs": [],
     "prompt_number": 33
    },
    {
     "cell_type": "code",
     "collapsed": false,
     "input": [
      "states_cleansed.take(5)"
     ],
     "language": "python",
     "metadata": {},
     "outputs": [
      {
       "metadata": {},
       "output_type": "pyout",
       "prompt_number": 34,
       "text": [
        "[(u'California', 0),\n",
        " (u'Maryland', 50),\n",
        " (u'Louisiana', 100),\n",
        " (u'Ohio', 0),\n",
        " (u'Georgia', 0)]"
       ]
      }
     ],
     "prompt_number": 34
    },
    {
     "cell_type": "code",
     "collapsed": false,
     "input": [
      "states_cleansed.countByKey()"
     ],
     "language": "python",
     "metadata": {},
     "outputs": [
      {
       "metadata": {},
       "output_type": "pyout",
       "prompt_number": 35,
       "text": [
        "defaultdict(<type 'int'>, {u'Mississippi': 327, u'Ontario': 80, u'Oklahoma': 454, u'Wyoming': 97, u'DC': 1086, u'Illinois': 2245, u'Montana': 130, u'British Columbia': 64, u'Arkansas': 305, u'New Mexico': 231, u'Ohio': 1690, u'Alberta': 25, u'Indiana': 950, u'Maryland': 737, u'Louisiana': 1045, u'Texas': 4954, u'Tennessee': 2474, u'Arizona': 744, u'Iowa': 467, u'Newfoundland and Labrador': 4, u'Saskatchewan': 3, u'Michigan': 1409, u'Kansas': 253, u'Utah': 801, u'Virginia': 689, u'Oregon': 769, u'Prince Edward Island': 117, u'Connecticut': 466, u'Virgin Islands': 76, u'New Hampshire': 274, u'Massachusetts': 816, u'West Virginia': 202, u'South Carolina': 517, u'California': 5059, u'Vermont': 70, u'Delaware': 88, u'North Dakota': 219, u'Pennsylvania': 1957, u'Puerto Rico': 153, u'Florida': 3841, u'Hawaii': 1091, u'Kentucky': 1651, u'Alaska': 358, u'Nebraska': 659, u'Nova Scotia': 3, u'Missouri': 1549, u'Wisconsin': 636, u'Alabama': 605, u'Rhode Island': 248, u'Minnesota': 727, u'South Dakota': 153, u'Georgia': 954, u'Colorado': 2201, u'Idaho': 179, u'New Jersey': 1234, u'Washington': 745, u'North Carolina': 1184, u'New York': 2787, u'Quebec': 24, u'Manitoba': 6, u'Nevada': 304, u'Maine': 172})"
       ]
      }
     ],
     "prompt_number": 35
    },
    {
     "cell_type": "code",
     "collapsed": false,
     "input": [
      "states_cleansed.reduceByKey(lambda x,y: x + y).collect()"
     ],
     "language": "python",
     "metadata": {},
     "outputs": [
      {
       "metadata": {},
       "output_type": "pyout",
       "prompt_number": 36,
       "text": [
        "[(u'British Columbia', 32360),\n",
        " (u'South Dakota', 142445),\n",
        " (u'Michigan', 419783),\n",
        " (u'Kansas', 221739),\n",
        " (u'Alaska', 167775),\n",
        " (u'Illinois', 2090359),\n",
        " (u'Ontario', 60215),\n",
        " (u'Ohio', 992058),\n",
        " (u'Maryland', 834941),\n",
        " (u'New York', 1932236),\n",
        " (u'Vermont', 17888),\n",
        " (u'Colorado', 1099534),\n",
        " (u'New Jersey', 1303736),\n",
        " (u'Oklahoma', 393324),\n",
        " (u'Virginia', 353497),\n",
        " (u'Oregon', 473793),\n",
        " (u'South Carolina', 473840),\n",
        " (u'Nova Scotia', 0),\n",
        " (u'Kentucky', 2078255),\n",
        " (u'Puerto Rico', 29653),\n",
        " (u'Alberta', 14453),\n",
        " (u'Texas', 5060797),\n",
        " (u'North Carolina', 1304039),\n",
        " (u'Georgia', 985222),\n",
        " (u'Pennsylvania', 1526396),\n",
        " (u'Saskatchewan', 7550),\n",
        " (u'Wyoming', 42458),\n",
        " (u'Utah', 645807),\n",
        " (u'DC', 935218),\n",
        " (u'Prince Edward Island', 18571),\n",
        " (u'Nebraska', 421961),\n",
        " (u'New Hampshire', 173342),\n",
        " (u'Quebec', 30130),\n",
        " (u'Manitoba', 5175),\n",
        " (u'California', 4522006),\n",
        " (u'Minnesota', 793382),\n",
        " (u'Massachusetts', 316798),\n",
        " (u'Iowa', 301514),\n",
        " (u'Wisconsin', 314542),\n",
        " (u'Washington', 703007),\n",
        " (u'Rhode Island', 92743),\n",
        " (u'Virgin Islands', 8365),\n",
        " (u'New Mexico', 278122),\n",
        " (u'West Virginia', 104675),\n",
        " (u'Indiana', 871660),\n",
        " (u'Alabama', 467147),\n",
        " (u'Nevada', 785560),\n",
        " (u'Maine', 59253),\n",
        " (u'Idaho', 110332),\n",
        " (u'Mississippi', 179161),\n",
        " (u'Arizona', 1181920),\n",
        " (u'North Dakota', 132495),\n",
        " (u'Newfoundland and Labrador', 100),\n",
        " (u'Delaware', 44501),\n",
        " (u'Florida', 2748278),\n",
        " (u'Hawaii', 82946),\n",
        " (u'Connecticut', 221590),\n",
        " (u'Tennessee', 3986687),\n",
        " (u'Arkansas', 277028),\n",
        " (u'Montana', 69009),\n",
        " (u'Missouri', 1381874),\n",
        " (u'Louisiana', 658076)]"
       ]
      }
     ],
     "prompt_number": 36
    },
    {
     "cell_type": "code",
     "collapsed": false,
     "input": [
      "df = states_cleansed.toDF(['state','cost']) # converting data into dataframe"
     ],
     "language": "python",
     "metadata": {},
     "outputs": [],
     "prompt_number": 37
    },
    {
     "cell_type": "code",
     "collapsed": false,
     "input": [
      "df.take(5)"
     ],
     "language": "python",
     "metadata": {},
     "outputs": [
      {
       "metadata": {},
       "output_type": "pyout",
       "prompt_number": 38,
       "text": [
        "[Row(state=u'California', cost=0),\n",
        " Row(state=u'Maryland', cost=50),\n",
        " Row(state=u'Louisiana', cost=100),\n",
        " Row(state=u'Ohio', cost=0),\n",
        " Row(state=u'Georgia', cost=0)]"
       ]
      }
     ],
     "prompt_number": 38
    },
    {
     "cell_type": "code",
     "collapsed": false,
     "input": [
      "df.toPandas() # dataframe"
     ],
     "language": "python",
     "metadata": {},
     "outputs": [
      {
       "html": [
        "<div style=\"max-height:1000px;max-width:1500px;overflow:auto;\">\n",
        "<table border=\"1\" class=\"dataframe\">\n",
        "  <thead>\n",
        "    <tr style=\"text-align: right;\">\n",
        "      <th></th>\n",
        "      <th>state</th>\n",
        "      <th>cost</th>\n",
        "    </tr>\n",
        "  </thead>\n",
        "  <tbody>\n",
        "    <tr>\n",
        "      <th>0    </th>\n",
        "      <td>     California</td>\n",
        "      <td>    0</td>\n",
        "    </tr>\n",
        "    <tr>\n",
        "      <th>1    </th>\n",
        "      <td>       Maryland</td>\n",
        "      <td>   50</td>\n",
        "    </tr>\n",
        "    <tr>\n",
        "      <th>2    </th>\n",
        "      <td>      Louisiana</td>\n",
        "      <td>  100</td>\n",
        "    </tr>\n",
        "    <tr>\n",
        "      <th>3    </th>\n",
        "      <td>           Ohio</td>\n",
        "      <td>    0</td>\n",
        "    </tr>\n",
        "    <tr>\n",
        "      <th>4    </th>\n",
        "      <td>        Georgia</td>\n",
        "      <td>    0</td>\n",
        "    </tr>\n",
        "    <tr>\n",
        "      <th>5    </th>\n",
        "      <td>       New York</td>\n",
        "      <td>    0</td>\n",
        "    </tr>\n",
        "    <tr>\n",
        "      <th>6    </th>\n",
        "      <td>         Oregon</td>\n",
        "      <td>  300</td>\n",
        "    </tr>\n",
        "    <tr>\n",
        "      <th>7    </th>\n",
        "      <td>        Florida</td>\n",
        "      <td>  800</td>\n",
        "    </tr>\n",
        "    <tr>\n",
        "      <th>8    </th>\n",
        "      <td>         Nevada</td>\n",
        "      <td>  700</td>\n",
        "    </tr>\n",
        "    <tr>\n",
        "      <th>9    </th>\n",
        "      <td>       New York</td>\n",
        "      <td>  150</td>\n",
        "    </tr>\n",
        "    <tr>\n",
        "      <th>10   </th>\n",
        "      <td>           Ohio</td>\n",
        "      <td>    0</td>\n",
        "    </tr>\n",
        "    <tr>\n",
        "      <th>11   </th>\n",
        "      <td>      Tennessee</td>\n",
        "      <td>    0</td>\n",
        "    </tr>\n",
        "    <tr>\n",
        "      <th>12   </th>\n",
        "      <td> South Carolina</td>\n",
        "      <td> 1300</td>\n",
        "    </tr>\n",
        "    <tr>\n",
        "      <th>13   </th>\n",
        "      <td>  Massachusetts</td>\n",
        "      <td>    0</td>\n",
        "    </tr>\n",
        "    <tr>\n",
        "      <th>14   </th>\n",
        "      <td>        Florida</td>\n",
        "      <td>    3</td>\n",
        "    </tr>\n",
        "    <tr>\n",
        "      <th>15   </th>\n",
        "      <td>    Connecticut</td>\n",
        "      <td>   50</td>\n",
        "    </tr>\n",
        "    <tr>\n",
        "      <th>16   </th>\n",
        "      <td>       New York</td>\n",
        "      <td>    0</td>\n",
        "    </tr>\n",
        "    <tr>\n",
        "      <th>17   </th>\n",
        "      <td>         Oregon</td>\n",
        "      <td>    0</td>\n",
        "    </tr>\n",
        "    <tr>\n",
        "      <th>18   </th>\n",
        "      <td>     California</td>\n",
        "      <td> 2000</td>\n",
        "    </tr>\n",
        "    <tr>\n",
        "      <th>19   </th>\n",
        "      <td>        Alabama</td>\n",
        "      <td> 2000</td>\n",
        "    </tr>\n",
        "    <tr>\n",
        "      <th>20   </th>\n",
        "      <td>         Oregon</td>\n",
        "      <td>    0</td>\n",
        "    </tr>\n",
        "    <tr>\n",
        "      <th>21   </th>\n",
        "      <td>     Washington</td>\n",
        "      <td>  400</td>\n",
        "    </tr>\n",
        "    <tr>\n",
        "      <th>22   </th>\n",
        "      <td>         Alaska</td>\n",
        "      <td>   50</td>\n",
        "    </tr>\n",
        "    <tr>\n",
        "      <th>23   </th>\n",
        "      <td>          Texas</td>\n",
        "      <td>  500</td>\n",
        "    </tr>\n",
        "    <tr>\n",
        "      <th>24   </th>\n",
        "      <td>          Texas</td>\n",
        "      <td>   50</td>\n",
        "    </tr>\n",
        "    <tr>\n",
        "      <th>25   </th>\n",
        "      <td>       New York</td>\n",
        "      <td>    0</td>\n",
        "    </tr>\n",
        "    <tr>\n",
        "      <th>26   </th>\n",
        "      <td>         Alaska</td>\n",
        "      <td>  300</td>\n",
        "    </tr>\n",
        "    <tr>\n",
        "      <th>27   </th>\n",
        "      <td>     California</td>\n",
        "      <td>  300</td>\n",
        "    </tr>\n",
        "    <tr>\n",
        "      <th>28   </th>\n",
        "      <td>       Missouri</td>\n",
        "      <td>  500</td>\n",
        "    </tr>\n",
        "    <tr>\n",
        "      <th>29   </th>\n",
        "      <td>        Florida</td>\n",
        "      <td>    0</td>\n",
        "    </tr>\n",
        "    <tr>\n",
        "      <th>...</th>\n",
        "      <td>...</td>\n",
        "      <td>...</td>\n",
        "    </tr>\n",
        "    <tr>\n",
        "      <th>53328</th>\n",
        "      <td>          Texas</td>\n",
        "      <td>    0</td>\n",
        "    </tr>\n",
        "    <tr>\n",
        "      <th>53329</th>\n",
        "      <td>       New York</td>\n",
        "      <td>    0</td>\n",
        "    </tr>\n",
        "    <tr>\n",
        "      <th>53330</th>\n",
        "      <td>     California</td>\n",
        "      <td> 6000</td>\n",
        "    </tr>\n",
        "    <tr>\n",
        "      <th>53331</th>\n",
        "      <td>       Colorado</td>\n",
        "      <td>    0</td>\n",
        "    </tr>\n",
        "    <tr>\n",
        "      <th>53332</th>\n",
        "      <td>       Colorado</td>\n",
        "      <td>    0</td>\n",
        "    </tr>\n",
        "    <tr>\n",
        "      <th>53333</th>\n",
        "      <td>       Colorado</td>\n",
        "      <td>    0</td>\n",
        "    </tr>\n",
        "    <tr>\n",
        "      <th>53334</th>\n",
        "      <td> South Carolina</td>\n",
        "      <td>    0</td>\n",
        "    </tr>\n",
        "    <tr>\n",
        "      <th>53335</th>\n",
        "      <td>       Michigan</td>\n",
        "      <td>    0</td>\n",
        "    </tr>\n",
        "    <tr>\n",
        "      <th>53336</th>\n",
        "      <td>       Kentucky</td>\n",
        "      <td>    0</td>\n",
        "    </tr>\n",
        "    <tr>\n",
        "      <th>53337</th>\n",
        "      <td>       Kentucky</td>\n",
        "      <td>    0</td>\n",
        "    </tr>\n",
        "    <tr>\n",
        "      <th>53338</th>\n",
        "      <td>      Louisiana</td>\n",
        "      <td>    0</td>\n",
        "    </tr>\n",
        "    <tr>\n",
        "      <th>53339</th>\n",
        "      <td>         Kansas</td>\n",
        "      <td>    0</td>\n",
        "    </tr>\n",
        "    <tr>\n",
        "      <th>53340</th>\n",
        "      <td>        Alabama</td>\n",
        "      <td>  500</td>\n",
        "    </tr>\n",
        "    <tr>\n",
        "      <th>53341</th>\n",
        "      <td>       New York</td>\n",
        "      <td>    0</td>\n",
        "    </tr>\n",
        "    <tr>\n",
        "      <th>53342</th>\n",
        "      <td>    Mississippi</td>\n",
        "      <td>  500</td>\n",
        "    </tr>\n",
        "    <tr>\n",
        "      <th>53343</th>\n",
        "      <td>       Michigan</td>\n",
        "      <td>    0</td>\n",
        "    </tr>\n",
        "    <tr>\n",
        "      <th>53344</th>\n",
        "      <td>      Louisiana</td>\n",
        "      <td>    0</td>\n",
        "    </tr>\n",
        "    <tr>\n",
        "      <th>53345</th>\n",
        "      <td>          Texas</td>\n",
        "      <td>    0</td>\n",
        "    </tr>\n",
        "    <tr>\n",
        "      <th>53346</th>\n",
        "      <td>        Alabama</td>\n",
        "      <td> 6000</td>\n",
        "    </tr>\n",
        "    <tr>\n",
        "      <th>53347</th>\n",
        "      <td>        Indiana</td>\n",
        "      <td>  800</td>\n",
        "    </tr>\n",
        "    <tr>\n",
        "      <th>53348</th>\n",
        "      <td>          Texas</td>\n",
        "      <td> 6000</td>\n",
        "    </tr>\n",
        "    <tr>\n",
        "      <th>53349</th>\n",
        "      <td>    Mississippi</td>\n",
        "      <td>  100</td>\n",
        "    </tr>\n",
        "    <tr>\n",
        "      <th>53350</th>\n",
        "      <td> South Carolina</td>\n",
        "      <td>    0</td>\n",
        "    </tr>\n",
        "    <tr>\n",
        "      <th>53351</th>\n",
        "      <td>          Texas</td>\n",
        "      <td>  400</td>\n",
        "    </tr>\n",
        "    <tr>\n",
        "      <th>53352</th>\n",
        "      <td>          Texas</td>\n",
        "      <td> 1200</td>\n",
        "    </tr>\n",
        "    <tr>\n",
        "      <th>53353</th>\n",
        "      <td>          Texas</td>\n",
        "      <td>    0</td>\n",
        "    </tr>\n",
        "    <tr>\n",
        "      <th>53354</th>\n",
        "      <td>          Texas</td>\n",
        "      <td>    0</td>\n",
        "    </tr>\n",
        "    <tr>\n",
        "      <th>53355</th>\n",
        "      <td>     California</td>\n",
        "      <td>    0</td>\n",
        "    </tr>\n",
        "    <tr>\n",
        "      <th>53356</th>\n",
        "      <td>          Texas</td>\n",
        "      <td> 1300</td>\n",
        "    </tr>\n",
        "    <tr>\n",
        "      <th>53357</th>\n",
        "      <td>        Florida</td>\n",
        "      <td>    0</td>\n",
        "    </tr>\n",
        "  </tbody>\n",
        "</table>\n",
        "<p>53358 rows \u00d7 2 columns</p>\n",
        "</div>"
       ],
       "metadata": {},
       "output_type": "pyout",
       "prompt_number": 40,
       "text": [
        "                state  cost\n",
        "0          California     0\n",
        "1            Maryland    50\n",
        "2           Louisiana   100\n",
        "3                Ohio     0\n",
        "4             Georgia     0\n",
        "5            New York     0\n",
        "6              Oregon   300\n",
        "7             Florida   800\n",
        "8              Nevada   700\n",
        "9            New York   150\n",
        "10               Ohio     0\n",
        "11          Tennessee     0\n",
        "12     South Carolina  1300\n",
        "13      Massachusetts     0\n",
        "14            Florida     3\n",
        "15        Connecticut    50\n",
        "16           New York     0\n",
        "17             Oregon     0\n",
        "18         California  2000\n",
        "19            Alabama  2000\n",
        "20             Oregon     0\n",
        "21         Washington   400\n",
        "22             Alaska    50\n",
        "23              Texas   500\n",
        "24              Texas    50\n",
        "25           New York     0\n",
        "26             Alaska   300\n",
        "27         California   300\n",
        "28           Missouri   500\n",
        "29            Florida     0\n",
        "...               ...   ...\n",
        "53328           Texas     0\n",
        "53329        New York     0\n",
        "53330      California  6000\n",
        "53331        Colorado     0\n",
        "53332        Colorado     0\n",
        "53333        Colorado     0\n",
        "53334  South Carolina     0\n",
        "53335        Michigan     0\n",
        "53336        Kentucky     0\n",
        "53337        Kentucky     0\n",
        "53338       Louisiana     0\n",
        "53339          Kansas     0\n",
        "53340         Alabama   500\n",
        "53341        New York     0\n",
        "53342     Mississippi   500\n",
        "53343        Michigan     0\n",
        "53344       Louisiana     0\n",
        "53345           Texas     0\n",
        "53346         Alabama  6000\n",
        "53347         Indiana   800\n",
        "53348           Texas  6000\n",
        "53349     Mississippi   100\n",
        "53350  South Carolina     0\n",
        "53351           Texas   400\n",
        "53352           Texas  1200\n",
        "53353           Texas     0\n",
        "53354           Texas     0\n",
        "53355      California     0\n",
        "53356           Texas  1300\n",
        "53357         Florida     0\n",
        "\n",
        "[53358 rows x 2 columns]"
       ]
      }
     ],
     "prompt_number": 40
    },
    {
     "cell_type": "code",
     "collapsed": false,
     "input": [
      "df.registerTempTable(\"state_costs\")"
     ],
     "language": "python",
     "metadata": {},
     "outputs": [],
     "prompt_number": 41
    },
    {
     "cell_type": "code",
     "collapsed": false,
     "input": [
      "sums = sqlContext.sql(\"SELECT state, SUM(cost) AS totalcost FROM state_costs GROUP BY state ORDER BY totalcost desc\")"
     ],
     "language": "python",
     "metadata": {},
     "outputs": [],
     "prompt_number": 42
    },
    {
     "cell_type": "code",
     "collapsed": false,
     "input": [
      "sums.show()"
     ],
     "language": "python",
     "metadata": {},
     "outputs": [
      {
       "output_type": "stream",
       "stream": "stdout",
       "text": [
        "+--------------+---------+\n",
        "|         state|totalcost|\n",
        "+--------------+---------+\n",
        "|         Texas|  5060797|\n",
        "|    California|  4522006|\n",
        "|     Tennessee|  3986687|\n",
        "|       Florida|  2748278|\n",
        "|      Illinois|  2090359|\n",
        "|      Kentucky|  2078255|\n",
        "|      New York|  1932236|\n",
        "|  Pennsylvania|  1526396|\n",
        "|      Missouri|  1381874|\n",
        "|North Carolina|  1304039|\n",
        "|    New Jersey|  1303736|\n",
        "|       Arizona|  1181920|\n",
        "|      Colorado|  1099534|\n",
        "|          Ohio|   992058|\n",
        "|       Georgia|   985222|\n",
        "|            DC|   935218|\n",
        "|       Indiana|   871660|\n",
        "|      Maryland|   834941|\n",
        "|     Minnesota|   793382|\n",
        "|        Nevada|   785560|\n",
        "+--------------+---------+\n",
        "only showing top 20 rows\n",
        "\n"
       ]
      }
     ],
     "prompt_number": 43
    }
   ],
   "metadata": {}
  }
 ]
}